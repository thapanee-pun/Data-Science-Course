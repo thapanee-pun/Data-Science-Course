{
  "metadata": {
    "kernelspec": {
      "name": "python",
      "display_name": "Pyolite",
      "language": "python"
    },
    "language_info": {
      "codemirror_mode": {
        "name": "python",
        "version": 3
      },
      "file_extension": ".py",
      "mimetype": "text/x-python",
      "name": "python",
      "nbconvert_exporter": "python",
      "pygments_lexer": "ipython3",
      "version": "3.8"
    }
  },
  "nbformat_minor": 4,
  "nbformat": 4,
  "cells": [
    {
      "cell_type": "markdown",
      "source": "<center>\n    <img src=\"https://cf-courses-data.s3.us.cloud-object-storage.appdomain.cloud/IBMDeveloperSkillsNetwork-DS0105EN-SkillsNetwork/labs/Module2/images/SN_web_lightmode.png\" width=\"300\" alt=\"cognitiveclass.ai logo\"  />\n</center>\n",
      "metadata": {}
    },
    {
      "cell_type": "markdown",
      "source": "# My Jupyter Notebook on IBM Watson Studio",
      "metadata": {}
    },
    {
      "cell_type": "markdown",
      "source": "**Thapanee P.**\n\nData Scientist",
      "metadata": {}
    },
    {
      "cell_type": "markdown",
      "source": "*I am interested in data science because it is a field that can bring up the hidden benefits of data and create useful insights for many businesses.*",
      "metadata": {}
    },
    {
      "cell_type": "markdown",
      "source": "### The code below showing the calculation for the sum of 1 and 1",
      "metadata": {}
    },
    {
      "cell_type": "code",
      "source": "1 + 1",
      "metadata": {
        "trusted": true
      },
      "execution_count": 1,
      "outputs": [
        {
          "execution_count": 1,
          "output_type": "execute_result",
          "data": {
            "text/plain": "2"
          },
          "metadata": {}
        }
      ]
    },
    {
      "cell_type": "markdown",
      "source": "### Markdown\n---\n\n> Markdown is an easy-to-use markup language that is used with plain text to add formatting elements (headings, bulleted lists, URLs) to plain text without the use of a formal text editor or the use of HTML tags.\n\n|Markdown Formatting elements|\n|:---:|\n|Headers|\n|Emphasis|\n|Lists|\n|Links|\n|Images|\n|Code and Syntax Highlighting|\n|Footnotes|\n|Tables|\n|Blockquotes|\n|Inline HTML|\n|Horizontal Rule|\n|Line Breaks|\n|YouTube Videos|\n\nFor more information about the markdown, please visit [this link](https://github.com/adam-p/markdown-here/wiki/Markdown-Cheatsheet#headers).",
      "metadata": {}
    }
  ]
}